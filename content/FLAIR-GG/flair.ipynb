{
 "cells": [
  {
   "cell_type": "markdown",
   "id": "039f7a57-a580-4d29-b126-25b51f67140e",
   "metadata": {},
   "source": [
    "# A SPARQL Results explorer for FLAIR-GG\n",
    "<img src = \"https://vp.bgv.cbgp.upm.es/images/flair-gg-logo.png\" width = 700/>"
   ]
  },
  {
   "cell_type": "markdown",
   "id": "3289cab0-7bf8-4816-ad04-ab55ee10e247",
   "metadata": {},
   "source": [
    "## The code below...\n",
    "\n",
    "When you run it, you will create a button that will delete your local cache of Jupyter interactions.\n",
    "\n",
    "You will then be able to refresh this page to get the latest version of the Analytics code\n",
    "\n",
    "You MUST save any previous analytics results first!!\n"
   ]
  },
  {
   "cell_type": "code",
   "execution_count": 2,
   "id": "be585e1c-4552-40c1-8eaf-c62224a891f7",
   "metadata": {},
   "outputs": [
    {
     "data": {
      "text/html": [
       "\n",
       "<button type=\"button\" id=\"button_for_indexeddb\">Clear JupyterLite local storage</button>\n",
       "<script>\n",
       "window.button_for_indexeddb.onclick = function(e) {\n",
       "    window.indexedDB.open('JupyterLite Storage').onsuccess = function(e) {\n",
       "        // There are also other tables that I'm not clearing:\n",
       "        // \"counters\", \"settings\", \"local-storage-detect-blob-support\"\n",
       "        let tables = [\"checkpoints\", \"files\"];\n",
       "\n",
       "        let db = e.target.result;\n",
       "        let t = db.transaction(tables, \"readwrite\");\n",
       "\n",
       "        function clearTable(tablename) {\n",
       "            let st = t.objectStore(tablename);\n",
       "            st.count().onsuccess = function(e) {\n",
       "                console.log(\"Deleting \" + e.target.result + \" entries from \" + tablename + \"...\");\n",
       "                st.clear().onsuccess = function(e) {\n",
       "                    console.log(tablename + \" is cleared!\");\n",
       "                }\n",
       "            }\n",
       "        }\n",
       "\n",
       "        for (let tablename of tables) {\n",
       "            clearTable(tablename);\n",
       "        }\n",
       "    }\n",
       "};\n",
       "</script>\n"
      ],
      "text/plain": [
       "<IPython.core.display.HTML object>"
      ]
     },
     "metadata": {},
     "output_type": "display_data"
    }
   ],
   "source": [
    "from IPython.display import display, HTML\n",
    "display(HTML(\"\"\"\n",
    "<button type=\"button\" id=\"button_for_indexeddb\">Clear JupyterLite local storage</button>\n",
    "<script>\n",
    "window.button_for_indexeddb.onclick = function(e) {\n",
    "    window.indexedDB.open('JupyterLite Storage').onsuccess = function(e) {\n",
    "        // There are also other tables that I'm not clearing:\n",
    "        // \"counters\", \"settings\", \"local-storage-detect-blob-support\"\n",
    "        let tables = [\"checkpoints\", \"files\"];\n",
    "\n",
    "        let db = e.target.result;\n",
    "        let t = db.transaction(tables, \"readwrite\");\n",
    "\n",
    "        function clearTable(tablename) {\n",
    "            let st = t.objectStore(tablename);\n",
    "            st.count().onsuccess = function(e) {\n",
    "                console.log(\"Deleting \" + e.target.result + \" entries from \" + tablename + \"...\");\n",
    "                st.clear().onsuccess = function(e) {\n",
    "                    console.log(tablename + \" is cleared!\");\n",
    "                }\n",
    "            }\n",
    "        }\n",
    "\n",
    "        for (let tablename of tables) {\n",
    "            clearTable(tablename);\n",
    "        }\n",
    "    }\n",
    "};\n",
    "</script>\n",
    "\"\"\"))\n",
    "\n"
   ]
  },
  {
   "cell_type": "code",
   "execution_count": null,
   "id": "c402f174-e3bc-447e-9040-945ed751bdb6",
   "metadata": {},
   "outputs": [],
   "source": [
    "import pyodide_kernel\n",
    "\n",
    "%pip install altair\n",
    "%pip install pandas\n",
    "%pip installrequests\n",
    "\n",
    "import altair as alt\n",
    "import pandas as pd\n"
   ]
  },
  {
   "cell_type": "code",
   "execution_count": null,
   "id": "f53240bc-94ae-4c0c-8ef0-2f469ac1e690",
   "metadata": {},
   "outputs": [],
   "source": [
    "key = \"XXXXXXXX\"   # your secret key from the FLAIR-GG Virtual Platform\n",
    "\n",
    "import pyodide_http\n",
    "import ssl\n",
    "import requests\n",
    "import urllib3\n",
    "urllib3.disable_warnings(urllib3.exceptions.InsecureRequestWarning)\n",
    "\n",
    "url = \"https://bgv.cbgp.upm.es/DAV/home/LDP/bbfaa78d-8f22-4753-8fe5-a137477fd7a4\"\n",
    "\n",
    "\n",
    "response = requests.get(url)\n",
    "print(response.content)\n",
    "\n"
   ]
  },
  {
   "cell_type": "code",
   "execution_count": null,
   "id": "8618387f-80b3-4522-a757-ad2e345e7a6e",
   "metadata": {},
   "outputs": [],
   "source": [
    "source = pd.DataFrame({\n",
    "    'a': ['A', 'B', 'C', 'D', 'E', 'F', 'G', 'H', 'I'],\n",
    "    'b': [28, 55, 43, 91, 81, 53, 19, 87, 52]\n",
    "})\n",
    "\n",
    "alt.Chart(source).mark_bar().encode(\n",
    "    x='a',\n",
    "    y='b'\n",
    ")"
   ]
  }
 ],
 "metadata": {
  "kernelspec": {
   "display_name": "Python 3 (ipykernel)",
   "language": "python",
   "name": "python3"
  },
  "language_info": {
   "codemirror_mode": {
    "name": "ipython",
    "version": 3
   },
   "file_extension": ".py",
   "mimetype": "text/x-python",
   "name": "python",
   "nbconvert_exporter": "python",
   "pygments_lexer": "ipython3",
   "version": "3.8.8"
  }
 },
 "nbformat": 4,
 "nbformat_minor": 5
}
