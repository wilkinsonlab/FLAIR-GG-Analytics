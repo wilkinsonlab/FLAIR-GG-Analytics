{
 "cells": [
  {
   "cell_type": "markdown",
   "id": "039f7a57-a580-4d29-b126-25b51f67140e",
   "metadata": {},
   "source": [
    "# A SPARQL Results explorer for FLAIR-GG\n",
    "<img src = \"https://vp.bgv.cbgp.upm.es/images/flair-gg-logo.png\" width = 700/>"
   ]
  },
  {
   "cell_type": "code",
   "execution_count": null,
   "id": "c402f174-e3bc-447e-9040-945ed751bdb6",
   "metadata": {},
   "outputs": [],
   "source": [
    "import altair as alt\n",
    "import pandas as pd\n",
    "\n",
    "source = pd.DataFrame({\n",
    "    'a': ['A', 'B', 'C', 'D', 'E', 'F', 'G', 'H', 'I'],\n",
    "    'b': [28, 55, 43, 91, 81, 53, 19, 87, 52]\n",
    "})\n",
    "\n",
    "alt.Chart(source).mark_bar().encode(\n",
    "    x='a',\n",
    "    y='b'\n",
    ")"
   ]
  },
  {
   "cell_type": "code",
   "execution_count": null,
   "id": "f53240bc-94ae-4c0c-8ef0-2f469ac1e690",
   "metadata": {},
   "outputs": [],
   "source": [
    "key = \"XXXXXXXX\"   # your secret key from the FLAIR-GG Virtual Platform\n",
    "\n",
    "import pyodide_http\n",
    "import ssl\n",
    "import requests\n",
    "\n",
    "url = \"https://bgv.cbgp.upm.es/DAV/home/LDP/\"\n",
    "\n",
    "\n",
    "response = requests.get(url, headers={'Accept': 'text/turtle'})\n",
    "print(response.content)\n",
    "\n",
    "\n"
   ]
  }
 ],
 "metadata": {
  "kernelspec": {
   "display_name": "Python 3 (ipykernel)",
   "language": "python",
   "name": "python3"
  },
  "language_info": {
   "codemirror_mode": {
    "name": "ipython",
    "version": 3
   },
   "file_extension": ".py",
   "mimetype": "text/x-python",
   "name": "python",
   "nbconvert_exporter": "python",
   "pygments_lexer": "ipython3",
   "version": "3.8.8"
  }
 },
 "nbformat": 4,
 "nbformat_minor": 5
}
