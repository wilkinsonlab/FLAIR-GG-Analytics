{
 "cells": [
  {
   "cell_type": "markdown",
   "id": "15784316-f308-4265-b7f7-187a7f83f306",
   "metadata": {},
   "source": [
    "## Welcome to the FLAIR-GG Beacon2 Individuals Analytics Notebook\n",
    "\n",
    "Please run the first cell to set-up the analutics environment\n",
    "\n",
    "In the second cell, we have pre-filled a basic analytics, to show you how to access and manipulate the data that was retrieved from the FLAIR-GG Virtual Platform.  \n",
    "\n",
    "Fill in the \"key = 'XXXXXXX' with the secret key for your federated exploration output, and then... go!"
   ]
  },
  {
   "cell_type": "code",
   "execution_count": null,
   "id": "c402f174-e3bc-447e-9040-945ed751bdb6",
   "metadata": {},
   "outputs": [],
   "source": [
    "import pyodide_kernel\n",
    "\n",
    "%pip install altair\n",
    "%pip install pandas\n",
    "%pip install requests\n",
    "\n",
    "import altair as alt\n",
    "import pandas as pd\n",
    "import pyodide_http\n",
    "import ssl\n",
    "import json\n",
    "import requests\n",
    "import urllib3\n",
    "import urllib.parse\n",
    "urllib3.disable_warnings(urllib3.exceptions.InsecureRequestWarning)"
   ]
  },
  {
   "cell_type": "code",
   "execution_count": null,
   "id": "f53240bc-94ae-4c0c-8ef0-2f469ac1e690",
   "metadata": {},
   "outputs": [],
   "source": [
    "key = \"XXXXXXXX\"   # your secret key from the FLAIR-GG Virtual Platform\n",
    "\n",
    "\n",
    "url = \"https://bgv.cbgp.upm.es/DAV/home/LDP/FLAIR/{}\".format(key)\n",
    "\n",
    "\n",
    "response = requests.get(url)\n",
    "response = json.loads(response.content)\n",
    "# print(response)\n",
    "\n",
    "sites = []\n",
    "counts = []\n",
    "\n",
    "for site in response.keys():\n",
    "    data = json.loads(response[site])\n",
    "    # print(\"\\n\")\n",
    "    # print(key)\n",
    "    # print(\"results: \")\n",
    "    # print(data[\"responseSummary\"]['numTotalResults'])\n",
    "    # print(\"\\n\\n\")\n",
    "\n",
    "    print(\"Provider: {}\".format(provider))\n",
    "    data = response[provider]\n",
    "\n",
    "    sites << site\n",
    "    counts << data[\"responseSummary\"]['numTotalResults']\n",
    "\n",
    "print(\"DONE\")"
   ]
  },
  {
   "cell_type": "code",
   "execution_count": null,
   "id": "8618387f-80b3-4522-a757-ad2e345e7a6e",
   "metadata": {},
   "outputs": [],
   "source": [
    "source = pd.DataFrame({\n",
    "    'site': site,\n",
    "    'count': count\n",
    "})\n",
    "\n",
    "alt.Chart(source).mark_bar().encode(\n",
    "    x='count',\n",
    "    y='site'\n",
    ")"
   ]
  },
  {
   "cell_type": "markdown",
   "id": "153722fd-8001-4650-86cc-e38d24a68145",
   "metadata": {},
   "source": [
    "\n",
    "\n",
    "# CLEAR NOTEBOOK CACHE\n",
    "\n",
    "The code below will erase the cache and force this Jupyter Notebook to be reloaded from-scratch when you click the \"reload\" button.\n",
    "\n",
    "You will lose all work and all code if you do this!  You have been warned :-)\n"
   ]
  },
  {
   "cell_type": "code",
   "execution_count": 2,
   "id": "be585e1c-4552-40c1-8eaf-c62224a891f7",
   "metadata": {},
   "outputs": [
    {
     "data": {
      "text/html": [
       "\n",
       "<button type=\"button\" id=\"button_for_indexeddb\">Clear JupyterLite local storage</button>\n",
       "<script>\n",
       "window.button_for_indexeddb.onclick = function(e) {\n",
       "    window.indexedDB.open('JupyterLite Storage').onsuccess = function(e) {\n",
       "        // There are also other tables that I'm not clearing:\n",
       "        // \"counters\", \"settings\", \"local-storage-detect-blob-support\"\n",
       "        let tables = [\"checkpoints\", \"files\"];\n",
       "\n",
       "        let db = e.target.result;\n",
       "        let t = db.transaction(tables, \"readwrite\");\n",
       "\n",
       "        function clearTable(tablename) {\n",
       "            let st = t.objectStore(tablename);\n",
       "            st.count().onsuccess = function(e) {\n",
       "                console.log(\"Deleting \" + e.target.result + \" entries from \" + tablename + \"...\");\n",
       "                st.clear().onsuccess = function(e) {\n",
       "                    console.log(tablename + \" is cleared!\");\n",
       "                }\n",
       "            }\n",
       "        }\n",
       "\n",
       "        for (let tablename of tables) {\n",
       "            clearTable(tablename);\n",
       "        }\n",
       "    }\n",
       "};\n",
       "</script>\n"
      ],
      "text/plain": [
       "<IPython.core.display.HTML object>"
      ]
     },
     "metadata": {},
     "output_type": "display_data"
    }
   ],
   "source": [
    "from IPython.display import display, HTML\n",
    "display(HTML(\"\"\"\n",
    "<button type=\"button\" id=\"button_for_indexeddb\">Clear JupyterLite local storage</button>\n",
    "<script>\n",
    "window.button_for_indexeddb.onclick = function(e) {\n",
    "    window.indexedDB.open('JupyterLite Storage').onsuccess = function(e) {\n",
    "        // There are also other tables that I'm not clearing:\n",
    "        // \"counters\", \"settings\", \"local-storage-detect-blob-support\"\n",
    "        let tables = [\"checkpoints\", \"files\"];\n",
    "\n",
    "        let db = e.target.result;\n",
    "        let t = db.transaction(tables, \"readwrite\");\n",
    "\n",
    "        function clearTable(tablename) {\n",
    "            let st = t.objectStore(tablename);\n",
    "            st.count().onsuccess = function(e) {\n",
    "                console.log(\"Deleting \" + e.target.result + \" entries from \" + tablename + \"...\");\n",
    "                st.clear().onsuccess = function(e) {\n",
    "                    console.log(tablename + \" is cleared!\");\n",
    "                }\n",
    "            }\n",
    "        }\n",
    "\n",
    "        for (let tablename of tables) {\n",
    "            clearTable(tablename);\n",
    "        }\n",
    "    }\n",
    "};\n",
    "</script>\n",
    "\"\"\"))\n",
    "\n"
   ]
  }
 ],
 "metadata": {
  "kernelspec": {
   "display_name": "Python 3 (ipykernel)",
   "language": "python",
   "name": "python3"
  },
  "language_info": {
   "codemirror_mode": {
    "name": "ipython",
    "version": 3
   },
   "file_extension": ".py",
   "mimetype": "text/x-python",
   "name": "python",
   "nbconvert_exporter": "python",
   "pygments_lexer": "ipython3",
   "version": "3.8.8"
  }
 },
 "nbformat": 4,
 "nbformat_minor": 5
}
