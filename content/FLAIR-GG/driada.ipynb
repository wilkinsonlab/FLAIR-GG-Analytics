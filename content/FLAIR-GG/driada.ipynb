{
 "cells": [
  {
   "cell_type": "markdown",
   "id": "ed7ed56c-0088-4335-8d0c-7b9fdf2def85",
   "metadata": {},
   "source": [
    "## Welcome to the FLAIR-GG Driada Species Legal Status Lookup Notebook\n",
    "\n",
    "Please run the first cell to set-up the analytics environment\n",
    "\n",
    "In the second cell, we have pre-filled a basic analytics, to show you how to access and manipulate the data that was retrieved from the FLAIR-GG Virtual Platform.  \n",
    "\n",
    "Fill in the \"key = 'XXXXXXX' with the secret key for your federated exploration output, and then... go!"
   ]
  },
  {
   "cell_type": "code",
   "execution_count": null,
   "id": "be585e1c-4552-40c1-8eaf-c62224a891f7",
   "metadata": {},
   "outputs": [],
   "source": [
    "import pyodide_kernel\n",
    "\n",
    "%pip install altair\n",
    "%pip install pandas\n",
    "%pip install requests\n",
    "\n",
    "import altair as alt\n",
    "import pandas as pd\n",
    "import pyodide_http\n",
    "import ssl\n",
    "import json\n",
    "import requests\n",
    "import urllib3\n",
    "import urllib.parse\n",
    "urllib3.disable_warnings(urllib3.exceptions.InsecureRequestWarning)\n",
    "print(\"DONE!  Proceed to next cell and replace the XXXXX with your secret key\")"
   ]
  },
  {
   "cell_type": "code",
   "execution_count": null,
   "id": "f53240bc-94ae-4c0c-8ef0-2f469ac1e690",
   "metadata": {},
   "outputs": [],
   "source": [
    "import io\n",
    "import array\n",
    "import sys\n",
    "\n",
    "key = \"XXXXXXXXX\"   # your secret key from the FLAIR-GG Virtual Platform\n",
    "\n",
    "\n",
    "url = \"https://bgv.cbgp.upm.es/DAV/home/LDP/{}\".format(key)\n",
    "\n",
    "\n",
    "if key == \"XXXXXXXXX\":\n",
    "    sys.exit(\"you didn't change the key!\")\n",
    "\n",
    "\n",
    "\n",
    "response = requests.get(url)\n",
    "response = json.loads(response.content)\n",
    "# print(response)\n",
    "# site = [\"sample1\", \"sample2\"]\n",
    "count = [100, 3]\n",
    "for provider in response.keys():\n",
    "    print(\"Provider: {}\".format(provider))\n",
    "    content = response[provider]\n",
    "    data = json.loads(content)\n",
    "    print(data[\"Taxon\"])\n",
    "    print(data[\"Categoria\"])\n",
    "    print(\"\")\n",
    "print(\"DONE\")\n",
    "\n",
    "# note:  the driada interface is at:  https://vp.bgv.cbgp.upm.es/wrapped-services/driada/lookup?species=genus+species\n",
    "# you will probably want to execute lookups in bulk by calling this in the notebook..."
   ]
  },
  {
   "cell_type": "markdown",
   "id": "63475821-0a36-4d69-a839-c9c656728b9d",
   "metadata": {},
   "source": [
    "\n",
    "\n",
    "# CLEAR NOTEBOOK CACHE\n",
    "\n",
    "The code below will erase the cache and force this Jupyter Notebook to be reloaded from-scratch when you click the \"reload\" button.\n",
    "\n",
    "You will lose all work and all code if you do this!  You have been warned :-)\n"
   ]
  },
  {
   "cell_type": "code",
   "execution_count": null,
   "id": "7412f9c6-b94f-4aef-be0c-6b78f1275d78",
   "metadata": {},
   "outputs": [],
   "source": [
    "from IPython.display import display, HTML\n",
    "display(HTML(\"\"\"\n",
    "<button type=\"button\" id=\"button_for_indexeddb\">Clear JupyterLite local storage</button>\n",
    "<script>\n",
    "window.button_for_indexeddb.onclick = function(e) {\n",
    "    window.indexedDB.open('JupyterLite Storage').onsuccess = function(e) {\n",
    "        // There are also other tables that I'm not clearing:\n",
    "        // \"counters\", \"settings\", \"local-storage-detect-blob-support\"\n",
    "        let tables = [\"checkpoints\", \"files\"];\n",
    "\n",
    "        let db = e.target.result;\n",
    "        let t = db.transaction(tables, \"readwrite\");\n",
    "\n",
    "        function clearTable(tablename) {\n",
    "            let st = t.objectStore(tablename);\n",
    "            st.count().onsuccess = function(e) {\n",
    "                console.log(\"Deleting \" + e.target.result + \" entries from \" + tablename + \"...\");\n",
    "                st.clear().onsuccess = function(e) {\n",
    "                    console.log(tablename + \" is cleared!\");\n",
    "                }\n",
    "            }\n",
    "        }\n",
    "\n",
    "        for (let tablename of tables) {\n",
    "            clearTable(tablename);\n",
    "        }\n",
    "    }\n",
    "};\n",
    "</script>\n",
    "\"\"\"))\n",
    "\n"
   ]
  }
 ],
 "metadata": {
  "kernelspec": {
   "display_name": "Python 3",
   "language": "python",
   "name": "python3"
  },
  "language_info": {
   "codemirror_mode": {
    "name": "ipython",
    "version": 3
   },
   "file_extension": ".py",
   "mimetype": "text/x-python",
   "name": "python",
   "nbconvert_exporter": "python",
   "pygments_lexer": "ipython3",
   "version": "3.8.8"
  }
 },
 "nbformat": 4,
 "nbformat_minor": 5
}
